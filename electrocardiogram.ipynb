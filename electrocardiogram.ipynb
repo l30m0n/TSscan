{
 "cells": [
  {
   "cell_type": "code",
   "execution_count": 4,
   "metadata": {},
   "outputs": [
    {
     "name": "stdout",
     "output_type": "stream",
     "text": [
      "Collecting aeon\n",
      "  Downloading aeon-0.2.0-py3-none-any.whl (28.4 MB)\n",
      "\u001b[2K     \u001b[90m━━━━━━━━━━━━━━━━━━━━━━━━━━━━━━━━━━━━━━━━\u001b[0m \u001b[32m28.4/28.4 MB\u001b[0m \u001b[31m3.6 MB/s\u001b[0m eta \u001b[36m0:00:00\u001b[0m00:01\u001b[0m00:01\u001b[0m\n",
      "\u001b[?25hRequirement already satisfied: attrs>=19.2.0 in /Users/leomonnier/Documents/M2DS/lib/python3.10/site-packages (from aeon) (22.1.0)\n",
      "Requirement already satisfied: numpy<1.25,>=1.21.0 in /Users/leomonnier/Documents/M2DS/lib/python3.10/site-packages (from aeon) (1.23.3)\n",
      "Collecting deprecated>=1.2.13\n",
      "  Downloading Deprecated-1.2.13-py2.py3-none-any.whl (9.6 kB)\n",
      "Collecting pandas<2.1.0,>=1.5.3\n",
      "  Downloading pandas-2.0.1-cp310-cp310-macosx_10_9_x86_64.whl (11.8 MB)\n",
      "\u001b[2K     \u001b[90m━━━━━━━━━━━━━━━━━━━━━━━━━━━━━━━━━━━━━━━━\u001b[0m \u001b[32m11.8/11.8 MB\u001b[0m \u001b[31m4.2 MB/s\u001b[0m eta \u001b[36m0:00:00\u001b[0m00:01\u001b[0m00:01\u001b[0m\n",
      "\u001b[?25hRequirement already satisfied: scipy<2.0.0,>=1.2.0 in /Users/leomonnier/Documents/M2DS/lib/python3.10/site-packages (from aeon) (1.9.2)\n",
      "Requirement already satisfied: packaging>=20.0 in /Users/leomonnier/Documents/M2DS/lib/python3.10/site-packages (from aeon) (21.3)\n",
      "Collecting numba>=0.55\n",
      "  Downloading numba-0.57.0-cp310-cp310-macosx_10_9_x86_64.whl (2.5 MB)\n",
      "\u001b[2K     \u001b[90m━━━━━━━━━━━━━━━━━━━━━━━━━━━━━━━━━━━━━━━━\u001b[0m \u001b[32m2.5/2.5 MB\u001b[0m \u001b[31m4.6 MB/s\u001b[0m eta \u001b[36m0:00:00\u001b[0m00:01\u001b[0m00:01\u001b[0mm\n",
      "\u001b[?25hRequirement already satisfied: scikit-learn<1.3.0,>=1.0.0 in /Users/leomonnier/Documents/M2DS/lib/python3.10/site-packages (from aeon) (1.1.2)\n",
      "Requirement already satisfied: wrapt<2,>=1.10 in /Users/leomonnier/Documents/M2DS/lib/python3.10/site-packages (from deprecated>=1.2.13->aeon) (1.14.1)\n",
      "Collecting llvmlite<0.41,>=0.40.0dev0\n",
      "  Downloading llvmlite-0.40.0-cp310-cp310-macosx_10_9_x86_64.whl (30.4 MB)\n",
      "\u001b[2K     \u001b[90m━━━━━━━━━━━━━━━━━━━━━━━━━━━━━━━━━━━━━━━━\u001b[0m \u001b[32m30.4/30.4 MB\u001b[0m \u001b[31m3.1 MB/s\u001b[0m eta \u001b[36m0:00:00\u001b[0m00:01\u001b[0m00:01\u001b[0m\n",
      "\u001b[?25hRequirement already satisfied: pyparsing!=3.0.5,>=2.0.2 in /Users/leomonnier/Documents/M2DS/lib/python3.10/site-packages (from packaging>=20.0->aeon) (3.0.9)\n",
      "Collecting tzdata>=2022.1\n",
      "  Downloading tzdata-2023.3-py2.py3-none-any.whl (341 kB)\n",
      "\u001b[2K     \u001b[90m━━━━━━━━━━━━━━━━━━━━━━━━━━━━━━━━━━━━━━━\u001b[0m \u001b[32m341.8/341.8 kB\u001b[0m \u001b[31m2.6 MB/s\u001b[0m eta \u001b[36m0:00:00\u001b[0m00:01\u001b[0m00:01\u001b[0m\n",
      "\u001b[?25hRequirement already satisfied: pytz>=2020.1 in /Users/leomonnier/Documents/M2DS/lib/python3.10/site-packages (from pandas<2.1.0,>=1.5.3->aeon) (2022.4)\n",
      "Requirement already satisfied: python-dateutil>=2.8.2 in /Users/leomonnier/Documents/M2DS/lib/python3.10/site-packages (from pandas<2.1.0,>=1.5.3->aeon) (2.8.2)\n",
      "Requirement already satisfied: threadpoolctl>=2.0.0 in /Users/leomonnier/Documents/M2DS/lib/python3.10/site-packages (from scikit-learn<1.3.0,>=1.0.0->aeon) (3.1.0)\n",
      "Requirement already satisfied: joblib>=1.0.0 in /Users/leomonnier/Documents/M2DS/lib/python3.10/site-packages (from scikit-learn<1.3.0,>=1.0.0->aeon) (1.2.0)\n",
      "Requirement already satisfied: six>=1.5 in /Users/leomonnier/Documents/M2DS/lib/python3.10/site-packages (from python-dateutil>=2.8.2->pandas<2.1.0,>=1.5.3->aeon) (1.16.0)\n",
      "Installing collected packages: tzdata, llvmlite, deprecated, pandas, numba, aeon\n",
      "  Attempting uninstall: pandas\n",
      "    Found existing installation: pandas 1.5.0\n",
      "    Uninstalling pandas-1.5.0:\n",
      "      Successfully uninstalled pandas-1.5.0\n",
      "Successfully installed aeon-0.2.0 deprecated-1.2.13 llvmlite-0.40.0 numba-0.57.0 pandas-2.0.1 tzdata-2023.3\n",
      "\n",
      "\u001b[1m[\u001b[0m\u001b[34;49mnotice\u001b[0m\u001b[1;39;49m]\u001b[0m\u001b[39;49m A new release of pip available: \u001b[0m\u001b[31;49m22.2.2\u001b[0m\u001b[39;49m -> \u001b[0m\u001b[32;49m23.1.2\u001b[0m\n",
      "\u001b[1m[\u001b[0m\u001b[34;49mnotice\u001b[0m\u001b[1;39;49m]\u001b[0m\u001b[39;49m To update, run: \u001b[0m\u001b[32;49mpip install --upgrade pip\u001b[0m\n",
      "Note: you may need to restart the kernel to use updated packages.\n"
     ]
    }
   ],
   "source": [
    "!pip install aeon"
   ]
  },
  {
   "cell_type": "code",
   "execution_count": 15,
   "metadata": {},
   "outputs": [],
   "source": [
    "from aeon.datasets import load_from_tsfile_to_dataframe,load_from_tsfile"
   ]
  },
  {
   "cell_type": "code",
   "execution_count": 51,
   "metadata": {},
   "outputs": [],
   "source": [
    "data=load_from_tsfile_to_dataframe(\"/Users/leomonnier/Documents/M2DS/Projet_TER/AbnormalHeartbeat/AbnormalHeartbeat_TRAIN.ts\")"
   ]
  },
  {
   "cell_type": "code",
   "execution_count": 46,
   "metadata": {},
   "outputs": [],
   "source": [
    "import numpy as np"
   ]
  },
  {
   "cell_type": "code",
   "execution_count": 55,
   "metadata": {},
   "outputs": [
    {
     "data": {
      "text/plain": [
       "204"
      ]
     },
     "execution_count": 55,
     "metadata": {},
     "output_type": "execute_result"
    }
   ],
   "source": [
    "len(data[0][\"dim_0\"])"
   ]
  },
  {
   "cell_type": "code",
   "execution_count": 58,
   "metadata": {},
   "outputs": [],
   "source": [
    "list_data=list()\n",
    "for i in range(len(data[0][\"dim_0\"])):\n",
    "    list_data.append(data[0][\"dim_0\"][i])\n"
   ]
  },
  {
   "cell_type": "code",
   "execution_count": 61,
   "metadata": {},
   "outputs": [
    {
     "data": {
      "text/plain": [
       "array([-0.02087402, -0.04519653, -0.04394531, ..., -0.03250122,\n",
       "       -0.03198242, -0.03378296])"
      ]
     },
     "execution_count": 61,
     "metadata": {},
     "output_type": "execute_result"
    }
   ],
   "source": [
    "np.array(list_data)"
   ]
  },
  {
   "cell_type": "code",
   "execution_count": 63,
   "metadata": {},
   "outputs": [],
   "source": [
    "from tsscan import *"
   ]
  },
  {
   "cell_type": "code",
   "execution_count": 64,
   "metadata": {},
   "outputs": [],
   "source": [
    "ts=TSscan(eps=1)"
   ]
  },
  {
   "cell_type": "code",
   "execution_count": 70,
   "metadata": {},
   "outputs": [],
   "source": [
    "data=np.array(list_data)\n",
    "\n"
   ]
  },
  {
   "cell_type": "code",
   "execution_count": 69,
   "metadata": {},
   "outputs": [],
   "source": [
    "import fastdtw"
   ]
  },
  {
   "cell_type": "code",
   "execution_count": 73,
   "metadata": {},
   "outputs": [],
   "source": [
    "fastdtw.dtw(data[0],data[1])"
   ]
  }
 ],
 "metadata": {
  "kernelspec": {
   "display_name": "M2DS",
   "language": "python",
   "name": "python3"
  },
  "language_info": {
   "codemirror_mode": {
    "name": "ipython",
    "version": 3
   },
   "file_extension": ".py",
   "mimetype": "text/x-python",
   "name": "python",
   "nbconvert_exporter": "python",
   "pygments_lexer": "ipython3",
   "version": "3.10.7"
  },
  "orig_nbformat": 4
 },
 "nbformat": 4,
 "nbformat_minor": 2
}
